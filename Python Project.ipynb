{
 "cells": [
  {
   "cell_type": "markdown",
   "id": "2dda7b80",
   "metadata": {},
   "source": [
    "# Convert text to speech"
   ]
  },
  {
   "cell_type": "code",
   "execution_count": 1,
   "id": "dcc68775",
   "metadata": {},
   "outputs": [
    {
     "name": "stdout",
     "output_type": "stream",
     "text": [
      "Requirement already satisfied: pyttsx3 in c:\\users\\91801\\anaconda3\\lib\\site-packages (2.90)\n",
      "Requirement already satisfied: comtypes in c:\\users\\91801\\anaconda3\\lib\\site-packages (from pyttsx3) (1.3.1)\n",
      "Requirement already satisfied: pypiwin32 in c:\\users\\91801\\anaconda3\\lib\\site-packages (from pyttsx3) (223)\n",
      "Requirement already satisfied: pywin32 in c:\\users\\91801\\anaconda3\\lib\\site-packages (from pyttsx3) (305.1)\n",
      "Note: you may need to restart the kernel to use updated packages.\n"
     ]
    }
   ],
   "source": [
    "pip install pyttsx3"
   ]
  },
  {
   "cell_type": "code",
   "execution_count": 1,
   "id": "4752cce7",
   "metadata": {},
   "outputs": [],
   "source": [
    "import pyttsx3 as pt"
   ]
  },
  {
   "cell_type": "code",
   "execution_count": 2,
   "id": "7c246aa7",
   "metadata": {},
   "outputs": [
    {
     "name": "stdout",
     "output_type": "stream",
     "text": [
      "Enter the text you want to convert to speech-->Hello\n"
     ]
    },
    {
     "ename": "AttributeError",
     "evalue": "module 'pyttsx3' has no attribute 'mp3'",
     "output_type": "error",
     "traceback": [
      "\u001b[1;31m---------------------------------------------------------------------------\u001b[0m",
      "\u001b[1;31mAttributeError\u001b[0m                            Traceback (most recent call last)",
      "Cell \u001b[1;32mIn[2], line 2\u001b[0m\n\u001b[0;32m      1\u001b[0m n\u001b[38;5;241m=\u001b[39m\u001b[38;5;28minput\u001b[39m(\u001b[38;5;124m\"\u001b[39m\u001b[38;5;124mEnter the text you want to convert to speech-->\u001b[39m\u001b[38;5;124m\"\u001b[39m)\n\u001b[1;32m----> 2\u001b[0m speech\u001b[38;5;241m=\u001b[39mpt\u001b[38;5;241m.\u001b[39mmp3(n)\n\u001b[0;32m      3\u001b[0m speech\n",
      "\u001b[1;31mAttributeError\u001b[0m: module 'pyttsx3' has no attribute 'mp3'"
     ]
    }
   ],
   "source": [
    "n=input(\"Enter the text you want to convert to speech-->\")\n",
    "speech=pt.mp3(n)\n",
    "speech"
   ]
  },
  {
   "cell_type": "code",
   "execution_count": 3,
   "id": "a8c40fd0",
   "metadata": {},
   "outputs": [
    {
     "name": "stdout",
     "output_type": "stream",
     "text": [
      "Enter the text you want to convert to speech-->hello\n"
     ]
    },
    {
     "ename": "AttributeError",
     "evalue": "module 'pyttsx3' has no attribute 'say'",
     "output_type": "error",
     "traceback": [
      "\u001b[1;31m---------------------------------------------------------------------------\u001b[0m",
      "\u001b[1;31mAttributeError\u001b[0m                            Traceback (most recent call last)",
      "Cell \u001b[1;32mIn[3], line 2\u001b[0m\n\u001b[0;32m      1\u001b[0m n\u001b[38;5;241m=\u001b[39m\u001b[38;5;28minput\u001b[39m(\u001b[38;5;124m\"\u001b[39m\u001b[38;5;124mEnter the text you want to convert to speech-->\u001b[39m\u001b[38;5;124m\"\u001b[39m)\n\u001b[1;32m----> 2\u001b[0m speech\u001b[38;5;241m=\u001b[39mpt\u001b[38;5;241m.\u001b[39msay()\n",
      "\u001b[1;31mAttributeError\u001b[0m: module 'pyttsx3' has no attribute 'say'"
     ]
    }
   ],
   "source": [
    "n=input(\"Enter the text you want to convert to speech-->\")\n",
    "speech=pt.say()"
   ]
  },
  {
   "cell_type": "code",
   "execution_count": 4,
   "id": "22cd98d1",
   "metadata": {},
   "outputs": [
    {
     "name": "stdout",
     "output_type": "stream",
     "text": [
      "Enter the text you want to convert to speech-->hello\n"
     ]
    },
    {
     "ename": "AttributeError",
     "evalue": "module 'pyttsx3' has no attribute 'say'",
     "output_type": "error",
     "traceback": [
      "\u001b[1;31m---------------------------------------------------------------------------\u001b[0m",
      "\u001b[1;31mAttributeError\u001b[0m                            Traceback (most recent call last)",
      "Cell \u001b[1;32mIn[4], line 2\u001b[0m\n\u001b[0;32m      1\u001b[0m n\u001b[38;5;241m=\u001b[39m\u001b[38;5;28minput\u001b[39m(\u001b[38;5;124m\"\u001b[39m\u001b[38;5;124mEnter the text you want to convert to speech-->\u001b[39m\u001b[38;5;124m\"\u001b[39m)\n\u001b[1;32m----> 2\u001b[0m speech\u001b[38;5;241m=\u001b[39mpt\u001b[38;5;241m.\u001b[39msay(n)\n\u001b[0;32m      3\u001b[0m speech\n",
      "\u001b[1;31mAttributeError\u001b[0m: module 'pyttsx3' has no attribute 'say'"
     ]
    }
   ],
   "source": [
    "n=input(\"Enter the text you want to convert to speech-->\")\n",
    "speech=pt.say(n)\n",
    "speech"
   ]
  },
  {
   "cell_type": "code",
   "execution_count": 5,
   "id": "b52b1206",
   "metadata": {},
   "outputs": [],
   "source": [
    "import pyttsx3 as p"
   ]
  },
  {
   "cell_type": "code",
   "execution_count": 7,
   "id": "cfb0e330",
   "metadata": {},
   "outputs": [
    {
     "name": "stdout",
     "output_type": "stream",
     "text": [
      "Enter the text that you want to convert to speech:hello\n"
     ]
    },
    {
     "ename": "ModuleNotFoundError",
     "evalue": "No module named 'pyttsx3.drivers.hello'",
     "output_type": "error",
     "traceback": [
      "\u001b[1;31m---------------------------------------------------------------------------\u001b[0m",
      "\u001b[1;31mKeyError\u001b[0m                                  Traceback (most recent call last)",
      "File \u001b[1;32m~\\anaconda3\\Lib\\site-packages\\pyttsx3\\__init__.py:20\u001b[0m, in \u001b[0;36minit\u001b[1;34m(driverName, debug)\u001b[0m\n\u001b[0;32m     19\u001b[0m \u001b[38;5;28;01mtry\u001b[39;00m:\n\u001b[1;32m---> 20\u001b[0m     eng \u001b[38;5;241m=\u001b[39m _activeEngines[driverName]\n\u001b[0;32m     21\u001b[0m \u001b[38;5;28;01mexcept\u001b[39;00m \u001b[38;5;167;01mKeyError\u001b[39;00m:\n",
      "File \u001b[1;32m~\\anaconda3\\Lib\\weakref.py:136\u001b[0m, in \u001b[0;36mWeakValueDictionary.__getitem__\u001b[1;34m(self, key)\u001b[0m\n\u001b[0;32m    135\u001b[0m     \u001b[38;5;28mself\u001b[39m\u001b[38;5;241m.\u001b[39m_commit_removals()\n\u001b[1;32m--> 136\u001b[0m o \u001b[38;5;241m=\u001b[39m \u001b[38;5;28mself\u001b[39m\u001b[38;5;241m.\u001b[39mdata[key]()\n\u001b[0;32m    137\u001b[0m \u001b[38;5;28;01mif\u001b[39;00m o \u001b[38;5;129;01mis\u001b[39;00m \u001b[38;5;28;01mNone\u001b[39;00m:\n",
      "\u001b[1;31mKeyError\u001b[0m: 'hello'",
      "\nDuring handling of the above exception, another exception occurred:\n",
      "\u001b[1;31mModuleNotFoundError\u001b[0m                       Traceback (most recent call last)",
      "Cell \u001b[1;32mIn[7], line 2\u001b[0m\n\u001b[0;32m      1\u001b[0m n\u001b[38;5;241m=\u001b[39m\u001b[38;5;28minput\u001b[39m(\u001b[38;5;124m\"\u001b[39m\u001b[38;5;124mEnter the text that you want to convert to speech:\u001b[39m\u001b[38;5;124m\"\u001b[39m)\n\u001b[1;32m----> 2\u001b[0m speech\u001b[38;5;241m=\u001b[39mp\u001b[38;5;241m.\u001b[39minit(n)\n\u001b[0;32m      3\u001b[0m speech\u001b[38;5;241m.\u001b[39msay()\n",
      "File \u001b[1;32m~\\anaconda3\\Lib\\site-packages\\pyttsx3\\__init__.py:22\u001b[0m, in \u001b[0;36minit\u001b[1;34m(driverName, debug)\u001b[0m\n\u001b[0;32m     20\u001b[0m     eng \u001b[38;5;241m=\u001b[39m _activeEngines[driverName]\n\u001b[0;32m     21\u001b[0m \u001b[38;5;28;01mexcept\u001b[39;00m \u001b[38;5;167;01mKeyError\u001b[39;00m:\n\u001b[1;32m---> 22\u001b[0m     eng \u001b[38;5;241m=\u001b[39m Engine(driverName, debug)\n\u001b[0;32m     23\u001b[0m     _activeEngines[driverName] \u001b[38;5;241m=\u001b[39m eng\n\u001b[0;32m     24\u001b[0m \u001b[38;5;28;01mreturn\u001b[39;00m eng\n",
      "File \u001b[1;32m~\\anaconda3\\Lib\\site-packages\\pyttsx3\\engine.py:30\u001b[0m, in \u001b[0;36mEngine.__init__\u001b[1;34m(self, driverName, debug)\u001b[0m\n\u001b[0;32m     20\u001b[0m \u001b[38;5;28;01mdef\u001b[39;00m \u001b[38;5;21m__init__\u001b[39m(\u001b[38;5;28mself\u001b[39m, driverName\u001b[38;5;241m=\u001b[39m\u001b[38;5;28;01mNone\u001b[39;00m, debug\u001b[38;5;241m=\u001b[39m\u001b[38;5;28;01mFalse\u001b[39;00m):\n\u001b[0;32m     21\u001b[0m \u001b[38;5;250m    \u001b[39m\u001b[38;5;124;03m\"\"\"\u001b[39;00m\n\u001b[0;32m     22\u001b[0m \u001b[38;5;124;03m    Constructs a new TTS engine instance.\u001b[39;00m\n\u001b[0;32m     23\u001b[0m \n\u001b[1;32m   (...)\u001b[0m\n\u001b[0;32m     28\u001b[0m \u001b[38;5;124;03m    @type debug: bool\u001b[39;00m\n\u001b[0;32m     29\u001b[0m \u001b[38;5;124;03m    \"\"\"\u001b[39;00m\n\u001b[1;32m---> 30\u001b[0m     \u001b[38;5;28mself\u001b[39m\u001b[38;5;241m.\u001b[39mproxy \u001b[38;5;241m=\u001b[39m driver\u001b[38;5;241m.\u001b[39mDriverProxy(weakref\u001b[38;5;241m.\u001b[39mproxy(\u001b[38;5;28mself\u001b[39m), driverName, debug)\n\u001b[0;32m     31\u001b[0m     \u001b[38;5;66;03m# initialize other vars\u001b[39;00m\n\u001b[0;32m     32\u001b[0m     \u001b[38;5;28mself\u001b[39m\u001b[38;5;241m.\u001b[39m_connects \u001b[38;5;241m=\u001b[39m {}\n",
      "File \u001b[1;32m~\\anaconda3\\Lib\\site-packages\\pyttsx3\\driver.py:50\u001b[0m, in \u001b[0;36mDriverProxy.__init__\u001b[1;34m(self, engine, driverName, debug)\u001b[0m\n\u001b[0;32m     48\u001b[0m \u001b[38;5;66;03m# import driver module\u001b[39;00m\n\u001b[0;32m     49\u001b[0m name \u001b[38;5;241m=\u001b[39m \u001b[38;5;124m'\u001b[39m\u001b[38;5;124mpyttsx3.drivers.\u001b[39m\u001b[38;5;132;01m%s\u001b[39;00m\u001b[38;5;124m'\u001b[39m \u001b[38;5;241m%\u001b[39m driverName\n\u001b[1;32m---> 50\u001b[0m \u001b[38;5;28mself\u001b[39m\u001b[38;5;241m.\u001b[39m_module \u001b[38;5;241m=\u001b[39m importlib\u001b[38;5;241m.\u001b[39mimport_module(name)\n\u001b[0;32m     51\u001b[0m \u001b[38;5;66;03m# build driver instance\u001b[39;00m\n\u001b[0;32m     52\u001b[0m \u001b[38;5;28mself\u001b[39m\u001b[38;5;241m.\u001b[39m_driver \u001b[38;5;241m=\u001b[39m \u001b[38;5;28mself\u001b[39m\u001b[38;5;241m.\u001b[39m_module\u001b[38;5;241m.\u001b[39mbuildDriver(weakref\u001b[38;5;241m.\u001b[39mproxy(\u001b[38;5;28mself\u001b[39m))\n",
      "File \u001b[1;32m~\\anaconda3\\Lib\\importlib\\__init__.py:126\u001b[0m, in \u001b[0;36mimport_module\u001b[1;34m(name, package)\u001b[0m\n\u001b[0;32m    124\u001b[0m             \u001b[38;5;28;01mbreak\u001b[39;00m\n\u001b[0;32m    125\u001b[0m         level \u001b[38;5;241m+\u001b[39m\u001b[38;5;241m=\u001b[39m \u001b[38;5;241m1\u001b[39m\n\u001b[1;32m--> 126\u001b[0m \u001b[38;5;28;01mreturn\u001b[39;00m _bootstrap\u001b[38;5;241m.\u001b[39m_gcd_import(name[level:], package, level)\n",
      "File \u001b[1;32m<frozen importlib._bootstrap>:1204\u001b[0m, in \u001b[0;36m_gcd_import\u001b[1;34m(name, package, level)\u001b[0m\n",
      "File \u001b[1;32m<frozen importlib._bootstrap>:1176\u001b[0m, in \u001b[0;36m_find_and_load\u001b[1;34m(name, import_)\u001b[0m\n",
      "File \u001b[1;32m<frozen importlib._bootstrap>:1140\u001b[0m, in \u001b[0;36m_find_and_load_unlocked\u001b[1;34m(name, import_)\u001b[0m\n",
      "\u001b[1;31mModuleNotFoundError\u001b[0m: No module named 'pyttsx3.drivers.hello'"
     ]
    }
   ],
   "source": [
    "n=input(\"Enter the text that you want to convert to speech:\")\n",
    "speech=p.init(n)\n",
    "speech.say()"
   ]
  },
  {
   "cell_type": "code",
   "execution_count": 14,
   "id": "aa797cc8",
   "metadata": {},
   "outputs": [
    {
     "name": "stdout",
     "output_type": "stream",
     "text": [
      "Enter the text that you want to convert to speech:hello\n"
     ]
    },
    {
     "ename": "TypeError",
     "evalue": "Engine.runAndWait() takes 1 positional argument but 2 were given",
     "output_type": "error",
     "traceback": [
      "\u001b[1;31m---------------------------------------------------------------------------\u001b[0m",
      "\u001b[1;31mTypeError\u001b[0m                                 Traceback (most recent call last)",
      "Cell \u001b[1;32mIn[14], line 7\u001b[0m\n\u001b[0;32m      4\u001b[0m \u001b[38;5;66;03m#Queues a command to speak an utterance. The speech is output according to the properties set before this command in the queue.\u001b[39;00m\n\u001b[0;32m      5\u001b[0m \u001b[38;5;66;03m#In easy words, this command converts the string into speech\u001b[39;00m\n\u001b[0;32m      6\u001b[0m speech\u001b[38;5;241m.\u001b[39msay(n)\n\u001b[1;32m----> 7\u001b[0m speech\u001b[38;5;241m.\u001b[39mrunAndWait(n)\n",
      "\u001b[1;31mTypeError\u001b[0m: Engine.runAndWait() takes 1 positional argument but 2 were given"
     ]
    }
   ],
   "source": [
    "n=input(\"Enter the text that you want to convert to speech:\")\n",
    "#This function initializes pyttsx3 the connection and creates an engine allowing to change text to speech\n",
    "speech=p.init()\n",
    "#Queues a command to speak an utterance. The speech is output according to the properties set before this command in the queue.\n",
    "#In easy words, this command converts the string into speech\n",
    "speech.say(n)\n",
    "speech.runAndWait(n)"
   ]
  },
  {
   "cell_type": "code",
   "execution_count": 1,
   "id": "bfd1418d",
   "metadata": {
    "scrolled": true
   },
   "outputs": [
    {
     "name": "stdout",
     "output_type": "stream",
     "text": [
      "Enter the text that you want to convert to speech:Hi my name is Abhigyan\n"
     ]
    }
   ],
   "source": [
    "import pyttsx3 as p\n",
    "n=input(\"Enter the text that you want to convert to speech:\")\n",
    "#This function initializes pyttsx3 the connection and creates an engine allowing to change text to speech\n",
    "speech=p.init()\n",
    "#Queues a command to speak an utterance. The speech is output according to the properties set before this command in the queue.\n",
    "#In easy words, this command converts the string into speech\n",
    "speech.say(n)\n",
    "speech.runAndWait()"
   ]
  },
  {
   "cell_type": "markdown",
   "id": "1e083831",
   "metadata": {},
   "source": [
    "# Covert speech to text"
   ]
  },
  {
   "cell_type": "code",
   "execution_count": 1,
   "id": "6213b8d0",
   "metadata": {},
   "outputs": [],
   "source": [
    "import pyttsx3 as p"
   ]
  },
  {
   "cell_type": "code",
   "execution_count": 2,
   "id": "76f18f6f",
   "metadata": {},
   "outputs": [
    {
     "name": "stdout",
     "output_type": "stream",
     "text": [
      "Collecting SpeechRecognition\n",
      "  Obtaining dependency information for SpeechRecognition from https://files.pythonhosted.org/packages/73/8c/74d3b2a7d71e3f18e1e50bf3f168cf3333846137f5723efac3d0dc5a8635/SpeechRecognition-3.10.1-py2.py3-none-any.whl.metadata\n",
      "  Downloading SpeechRecognition-3.10.1-py2.py3-none-any.whl.metadata (28 kB)\n",
      "Requirement already satisfied: requests>=2.26.0 in c:\\users\\91801\\anaconda3\\lib\\site-packages (from SpeechRecognition) (2.31.0)\n",
      "Requirement already satisfied: typing-extensions in c:\\users\\91801\\anaconda3\\lib\\site-packages (from SpeechRecognition) (4.7.1)\n",
      "Requirement already satisfied: charset-normalizer<4,>=2 in c:\\users\\91801\\anaconda3\\lib\\site-packages (from requests>=2.26.0->SpeechRecognition) (2.0.4)\n",
      "Requirement already satisfied: idna<4,>=2.5 in c:\\users\\91801\\anaconda3\\lib\\site-packages (from requests>=2.26.0->SpeechRecognition) (3.4)\n",
      "Requirement already satisfied: urllib3<3,>=1.21.1 in c:\\users\\91801\\anaconda3\\lib\\site-packages (from requests>=2.26.0->SpeechRecognition) (1.26.16)\n",
      "Requirement already satisfied: certifi>=2017.4.17 in c:\\users\\91801\\anaconda3\\lib\\site-packages (from requests>=2.26.0->SpeechRecognition) (2023.7.22)\n",
      "Downloading SpeechRecognition-3.10.1-py2.py3-none-any.whl (32.8 MB)\n",
      "   ---------------------------------------- 0.0/32.8 MB ? eta -:--:--\n",
      "   ---------------------------------------- 0.1/32.8 MB 2.6 MB/s eta 0:00:13\n",
      "   ---------------------------------------- 0.3/32.8 MB 4.4 MB/s eta 0:00:08\n",
      "    --------------------------------------- 0.6/32.8 MB 4.9 MB/s eta 0:00:07\n",
      "   - -------------------------------------- 1.1/32.8 MB 6.8 MB/s eta 0:00:05\n",
      "   - -------------------------------------- 1.3/32.8 MB 6.1 MB/s eta 0:00:06\n",
      "   - -------------------------------------- 1.3/32.8 MB 6.1 MB/s eta 0:00:06\n",
      "   - -------------------------------------- 1.3/32.8 MB 6.1 MB/s eta 0:00:06\n",
      "   -- ------------------------------------- 2.4/32.8 MB 6.6 MB/s eta 0:00:05\n",
      "   --- ------------------------------------ 2.8/32.8 MB 6.8 MB/s eta 0:00:05\n",
      "   --- ------------------------------------ 3.1/32.8 MB 6.8 MB/s eta 0:00:05\n",
      "   --- ------------------------------------ 3.2/32.8 MB 6.8 MB/s eta 0:00:05\n",
      "   ---- ----------------------------------- 4.0/32.8 MB 7.3 MB/s eta 0:00:04\n",
      "   ----- ---------------------------------- 4.2/32.8 MB 7.3 MB/s eta 0:00:04\n",
      "   ----- ---------------------------------- 4.5/32.8 MB 6.9 MB/s eta 0:00:05\n",
      "   ----- ---------------------------------- 4.9/32.8 MB 7.1 MB/s eta 0:00:04\n",
      "   ------ --------------------------------- 5.3/32.8 MB 7.1 MB/s eta 0:00:04\n",
      "   ------ --------------------------------- 5.7/32.8 MB 7.3 MB/s eta 0:00:04\n",
      "   ------- -------------------------------- 6.0/32.8 MB 7.3 MB/s eta 0:00:04\n",
      "   ------- -------------------------------- 6.5/32.8 MB 7.4 MB/s eta 0:00:04\n",
      "   -------- ------------------------------- 6.9/32.8 MB 7.4 MB/s eta 0:00:04\n",
      "   -------- ------------------------------- 7.4/32.8 MB 7.5 MB/s eta 0:00:04\n",
      "   --------- ------------------------------ 7.8/32.8 MB 7.5 MB/s eta 0:00:04\n",
      "   --------- ------------------------------ 7.9/32.8 MB 7.3 MB/s eta 0:00:04\n",
      "   --------- ------------------------------ 8.0/32.8 MB 7.2 MB/s eta 0:00:04\n",
      "   --------- ------------------------------ 8.1/32.8 MB 6.9 MB/s eta 0:00:04\n",
      "   ---------- ----------------------------- 8.5/32.8 MB 6.9 MB/s eta 0:00:04\n",
      "   ---------- ----------------------------- 8.6/32.8 MB 6.9 MB/s eta 0:00:04\n",
      "   ---------- ----------------------------- 8.9/32.8 MB 6.7 MB/s eta 0:00:04\n",
      "   ----------- ---------------------------- 9.2/32.8 MB 6.7 MB/s eta 0:00:04\n",
      "   ----------- ---------------------------- 9.6/32.8 MB 6.8 MB/s eta 0:00:04\n",
      "   ------------ --------------------------- 10.0/32.8 MB 6.8 MB/s eta 0:00:04\n",
      "   ------------ --------------------------- 10.5/32.8 MB 7.0 MB/s eta 0:00:04\n",
      "   ------------- -------------------------- 10.7/32.8 MB 7.2 MB/s eta 0:00:04\n",
      "   ------------- -------------------------- 10.9/32.8 MB 7.0 MB/s eta 0:00:04\n",
      "   ------------- -------------------------- 11.2/32.8 MB 6.9 MB/s eta 0:00:04\n",
      "   ------------- -------------------------- 11.4/32.8 MB 6.8 MB/s eta 0:00:04\n",
      "   -------------- ------------------------- 11.6/32.8 MB 6.7 MB/s eta 0:00:04\n",
      "   -------------- ------------------------- 12.0/32.8 MB 7.0 MB/s eta 0:00:03\n",
      "   -------------- ------------------------- 12.3/32.8 MB 6.8 MB/s eta 0:00:04\n",
      "   --------------- ------------------------ 12.7/32.8 MB 6.9 MB/s eta 0:00:03\n",
      "   --------------- ------------------------ 13.1/32.8 MB 6.7 MB/s eta 0:00:03\n",
      "   ---------------- ----------------------- 13.5/32.8 MB 7.1 MB/s eta 0:00:03\n",
      "   ---------------- ----------------------- 14.0/32.8 MB 6.9 MB/s eta 0:00:03\n",
      "   ----------------- ---------------------- 14.4/32.8 MB 6.7 MB/s eta 0:00:03\n",
      "   ------------------ --------------------- 14.8/32.8 MB 7.0 MB/s eta 0:00:03\n",
      "   ------------------ --------------------- 15.0/32.8 MB 7.0 MB/s eta 0:00:03\n",
      "   ------------------- -------------------- 15.7/32.8 MB 7.0 MB/s eta 0:00:03\n",
      "   ------------------- -------------------- 16.0/32.8 MB 7.0 MB/s eta 0:00:03\n",
      "   ------------------- -------------------- 16.4/32.8 MB 7.0 MB/s eta 0:00:03\n",
      "   -------------------- ------------------- 16.7/32.8 MB 6.9 MB/s eta 0:00:03\n",
      "   -------------------- ------------------- 17.0/32.8 MB 6.8 MB/s eta 0:00:03\n",
      "   --------------------- ------------------ 17.4/32.8 MB 6.8 MB/s eta 0:00:03\n",
      "   --------------------- ------------------ 17.8/32.8 MB 6.8 MB/s eta 0:00:03\n",
      "   ---------------------- ----------------- 18.2/32.8 MB 7.0 MB/s eta 0:00:03\n",
      "   ---------------------- ----------------- 18.5/32.8 MB 7.4 MB/s eta 0:00:02\n",
      "   ---------------------- ----------------- 18.9/32.8 MB 7.6 MB/s eta 0:00:02\n",
      "   ----------------------- ---------------- 19.3/32.8 MB 7.5 MB/s eta 0:00:02\n",
      "   ----------------------- ---------------- 19.5/32.8 MB 7.6 MB/s eta 0:00:02\n",
      "   ------------------------ --------------- 19.9/32.8 MB 7.4 MB/s eta 0:00:02\n",
      "   ------------------------ --------------- 20.2/32.8 MB 7.4 MB/s eta 0:00:02\n",
      "   ------------------------- -------------- 20.6/32.8 MB 7.4 MB/s eta 0:00:02\n",
      "   ------------------------- -------------- 21.0/32.8 MB 7.5 MB/s eta 0:00:02\n",
      "   ------------------------- -------------- 21.3/32.8 MB 7.5 MB/s eta 0:00:02\n",
      "   -------------------------- ------------- 21.7/32.8 MB 7.9 MB/s eta 0:00:02\n",
      "   -------------------------- ------------- 22.1/32.8 MB 7.9 MB/s eta 0:00:02\n",
      "   --------------------------- ------------ 22.5/32.8 MB 7.9 MB/s eta 0:00:02\n",
      "   --------------------------- ------------ 22.9/32.8 MB 7.9 MB/s eta 0:00:02\n",
      "   ---------------------------- ----------- 23.2/32.8 MB 7.9 MB/s eta 0:00:02\n",
      "   ---------------------------- ----------- 23.2/32.8 MB 7.9 MB/s eta 0:00:02\n",
      "   ---------------------------- ----------- 23.7/32.8 MB 7.6 MB/s eta 0:00:02\n",
      "   ----------------------------- ---------- 24.0/32.8 MB 7.6 MB/s eta 0:00:02\n",
      "   ----------------------------- ---------- 24.3/32.8 MB 7.4 MB/s eta 0:00:02\n",
      "   ----------------------------- ---------- 24.6/32.8 MB 7.4 MB/s eta 0:00:02\n",
      "   ------------------------------ --------- 24.8/32.8 MB 7.2 MB/s eta 0:00:02\n",
      "   ------------------------------ --------- 25.0/32.8 MB 7.2 MB/s eta 0:00:02\n",
      "   ------------------------------ --------- 25.2/32.8 MB 7.2 MB/s eta 0:00:02\n",
      "   ------------------------------ --------- 25.4/32.8 MB 7.0 MB/s eta 0:00:02\n",
      "   ------------------------------- -------- 25.7/32.8 MB 6.8 MB/s eta 0:00:02\n",
      "   ------------------------------- -------- 26.0/32.8 MB 6.8 MB/s eta 0:00:02\n",
      "   -------------------------------- ------- 26.3/32.8 MB 6.8 MB/s eta 0:00:01\n",
      "   -------------------------------- ------- 26.6/32.8 MB 6.7 MB/s eta 0:00:01\n",
      "   -------------------------------- ------- 27.0/32.8 MB 6.7 MB/s eta 0:00:01\n",
      "   --------------------------------- ------ 27.2/32.8 MB 6.7 MB/s eta 0:00:01\n",
      "   --------------------------------- ------ 27.5/32.8 MB 6.6 MB/s eta 0:00:01\n",
      "   --------------------------------- ------ 27.9/32.8 MB 6.6 MB/s eta 0:00:01\n",
      "   ---------------------------------- ----- 28.2/32.8 MB 6.6 MB/s eta 0:00:01\n",
      "   ---------------------------------- ----- 28.6/32.8 MB 6.6 MB/s eta 0:00:01\n",
      "   ----------------------------------- ---- 28.8/32.8 MB 6.6 MB/s eta 0:00:01\n",
      "   ----------------------------------- ---- 29.1/32.8 MB 6.5 MB/s eta 0:00:01\n",
      "   ----------------------------------- ---- 29.5/32.8 MB 6.5 MB/s eta 0:00:01\n",
      "   ------------------------------------ --- 29.7/32.8 MB 6.5 MB/s eta 0:00:01\n",
      "   ------------------------------------ --- 30.0/32.8 MB 6.5 MB/s eta 0:00:01\n",
      "   ------------------------------------ --- 30.3/32.8 MB 6.5 MB/s eta 0:00:01\n",
      "   ------------------------------------- -- 30.6/32.8 MB 6.5 MB/s eta 0:00:01\n",
      "   ------------------------------------- -- 30.9/32.8 MB 6.4 MB/s eta 0:00:01\n",
      "   -------------------------------------- - 31.2/32.8 MB 6.4 MB/s eta 0:00:01\n",
      "   -------------------------------------- - 31.5/32.8 MB 6.4 MB/s eta 0:00:01\n",
      "   -------------------------------------- - 31.8/32.8 MB 6.3 MB/s eta 0:00:01\n",
      "   ---------------------------------------  32.1/32.8 MB 6.2 MB/s eta 0:00:01\n",
      "   ---------------------------------------  32.3/32.8 MB 6.1 MB/s eta 0:00:01\n",
      "   ---------------------------------------  32.3/32.8 MB 6.1 MB/s eta 0:00:01\n",
      "   ---------------------------------------  32.3/32.8 MB 6.1 MB/s eta 0:00:01\n",
      "   ---------------------------------------  32.7/32.8 MB 5.8 MB/s eta 0:00:01\n",
      "   ---------------------------------------  32.8/32.8 MB 5.8 MB/s eta 0:00:01\n",
      "   ---------------------------------------  32.8/32.8 MB 5.8 MB/s eta 0:00:01\n",
      "   ---------------------------------------- 32.8/32.8 MB 5.6 MB/s eta 0:00:00\n",
      "Installing collected packages: SpeechRecognition\n",
      "Successfully installed SpeechRecognition-3.10.1\n",
      "Note: you may need to restart the kernel to use updated packages.\n"
     ]
    }
   ],
   "source": [
    "pip install SpeechRecognition"
   ]
  },
  {
   "cell_type": "code",
   "execution_count": 5,
   "id": "eee3f56e",
   "metadata": {},
   "outputs": [
    {
     "ename": "ModuleNotFoundError",
     "evalue": "No module named 'pyaudio'",
     "output_type": "error",
     "traceback": [
      "\u001b[1;31m---------------------------------------------------------------------------\u001b[0m",
      "\u001b[1;31mModuleNotFoundError\u001b[0m                       Traceback (most recent call last)",
      "Cell \u001b[1;32mIn[5], line 2\u001b[0m\n\u001b[0;32m      1\u001b[0m \u001b[38;5;28;01mimport\u001b[39;00m \u001b[38;5;21;01mspeech_recognition\u001b[39;00m \u001b[38;5;28;01mas\u001b[39;00m \u001b[38;5;21;01ms\u001b[39;00m\n\u001b[1;32m----> 2\u001b[0m \u001b[38;5;28;01mimport\u001b[39;00m \u001b[38;5;21;01mpyaudio\u001b[39;00m\n",
      "\u001b[1;31mModuleNotFoundError\u001b[0m: No module named 'pyaudio'"
     ]
    }
   ],
   "source": [
    "import speech_recognition as s\n",
    "import pyaudio"
   ]
  },
  {
   "cell_type": "code",
   "execution_count": 4,
   "id": "19c57369",
   "metadata": {},
   "outputs": [
    {
     "ename": "AttributeError",
     "evalue": "Could not find PyAudio; check installation",
     "output_type": "error",
     "traceback": [
      "\u001b[1;31m---------------------------------------------------------------------------\u001b[0m",
      "\u001b[1;31mModuleNotFoundError\u001b[0m                       Traceback (most recent call last)",
      "File \u001b[1;32m~\\anaconda3\\Lib\\site-packages\\speech_recognition\\__init__.py:108\u001b[0m, in \u001b[0;36mMicrophone.get_pyaudio\u001b[1;34m()\u001b[0m\n\u001b[0;32m    107\u001b[0m \u001b[38;5;28;01mtry\u001b[39;00m:\n\u001b[1;32m--> 108\u001b[0m     \u001b[38;5;28;01mimport\u001b[39;00m \u001b[38;5;21;01mpyaudio\u001b[39;00m\n\u001b[0;32m    109\u001b[0m \u001b[38;5;28;01mexcept\u001b[39;00m \u001b[38;5;167;01mImportError\u001b[39;00m:\n",
      "\u001b[1;31mModuleNotFoundError\u001b[0m: No module named 'pyaudio'",
      "\nDuring handling of the above exception, another exception occurred:\n",
      "\u001b[1;31mAttributeError\u001b[0m                            Traceback (most recent call last)",
      "Cell \u001b[1;32mIn[4], line 26\u001b[0m\n\u001b[0;32m     23\u001b[0m             \u001b[38;5;28mprint\u001b[39m(\u001b[38;5;124m\"\u001b[39m\u001b[38;5;124mError fetching results; \u001b[39m\u001b[38;5;132;01m{0}\u001b[39;00m\u001b[38;5;124m\"\u001b[39m\u001b[38;5;241m.\u001b[39mformat(e))\n\u001b[0;32m     25\u001b[0m \u001b[38;5;66;03m# Call the function to start speech recognition\u001b[39;00m\n\u001b[1;32m---> 26\u001b[0m speech_to_text()\n",
      "Cell \u001b[1;32mIn[4], line 8\u001b[0m, in \u001b[0;36mspeech_to_text\u001b[1;34m()\u001b[0m\n\u001b[0;32m      5\u001b[0m recognizer \u001b[38;5;241m=\u001b[39m sr\u001b[38;5;241m.\u001b[39mRecognizer()\n\u001b[0;32m      7\u001b[0m \u001b[38;5;66;03m# Use default microphone as the audio source\u001b[39;00m\n\u001b[1;32m----> 8\u001b[0m \u001b[38;5;28;01mwith\u001b[39;00m sr\u001b[38;5;241m.\u001b[39mMicrophone() \u001b[38;5;28;01mas\u001b[39;00m source:\n\u001b[0;32m      9\u001b[0m     \u001b[38;5;28mprint\u001b[39m(\u001b[38;5;124m\"\u001b[39m\u001b[38;5;124mSpeak something...\u001b[39m\u001b[38;5;124m\"\u001b[39m)\n\u001b[0;32m     10\u001b[0m     \u001b[38;5;66;03m# Adjust for ambient noise\u001b[39;00m\n",
      "File \u001b[1;32m~\\anaconda3\\Lib\\site-packages\\speech_recognition\\__init__.py:80\u001b[0m, in \u001b[0;36mMicrophone.__init__\u001b[1;34m(self, device_index, sample_rate, chunk_size)\u001b[0m\n\u001b[0;32m     77\u001b[0m \u001b[38;5;28;01massert\u001b[39;00m \u001b[38;5;28misinstance\u001b[39m(chunk_size, \u001b[38;5;28mint\u001b[39m) \u001b[38;5;129;01mand\u001b[39;00m chunk_size \u001b[38;5;241m>\u001b[39m \u001b[38;5;241m0\u001b[39m, \u001b[38;5;124m\"\u001b[39m\u001b[38;5;124mChunk size must be a positive integer\u001b[39m\u001b[38;5;124m\"\u001b[39m\n\u001b[0;32m     79\u001b[0m \u001b[38;5;66;03m# set up PyAudio\u001b[39;00m\n\u001b[1;32m---> 80\u001b[0m \u001b[38;5;28mself\u001b[39m\u001b[38;5;241m.\u001b[39mpyaudio_module \u001b[38;5;241m=\u001b[39m \u001b[38;5;28mself\u001b[39m\u001b[38;5;241m.\u001b[39mget_pyaudio()\n\u001b[0;32m     81\u001b[0m audio \u001b[38;5;241m=\u001b[39m \u001b[38;5;28mself\u001b[39m\u001b[38;5;241m.\u001b[39mpyaudio_module\u001b[38;5;241m.\u001b[39mPyAudio()\n\u001b[0;32m     82\u001b[0m \u001b[38;5;28;01mtry\u001b[39;00m:\n",
      "File \u001b[1;32m~\\anaconda3\\Lib\\site-packages\\speech_recognition\\__init__.py:110\u001b[0m, in \u001b[0;36mMicrophone.get_pyaudio\u001b[1;34m()\u001b[0m\n\u001b[0;32m    108\u001b[0m     \u001b[38;5;28;01mimport\u001b[39;00m \u001b[38;5;21;01mpyaudio\u001b[39;00m\n\u001b[0;32m    109\u001b[0m \u001b[38;5;28;01mexcept\u001b[39;00m \u001b[38;5;167;01mImportError\u001b[39;00m:\n\u001b[1;32m--> 110\u001b[0m     \u001b[38;5;28;01mraise\u001b[39;00m \u001b[38;5;167;01mAttributeError\u001b[39;00m(\u001b[38;5;124m\"\u001b[39m\u001b[38;5;124mCould not find PyAudio; check installation\u001b[39m\u001b[38;5;124m\"\u001b[39m)\n\u001b[0;32m    111\u001b[0m \u001b[38;5;28;01mfrom\u001b[39;00m \u001b[38;5;21;01mdistutils\u001b[39;00m\u001b[38;5;21;01m.\u001b[39;00m\u001b[38;5;21;01mversion\u001b[39;00m \u001b[38;5;28;01mimport\u001b[39;00m LooseVersion\n\u001b[0;32m    112\u001b[0m \u001b[38;5;28;01mif\u001b[39;00m LooseVersion(pyaudio\u001b[38;5;241m.\u001b[39m__version__) \u001b[38;5;241m<\u001b[39m LooseVersion(\u001b[38;5;124m\"\u001b[39m\u001b[38;5;124m0.2.11\u001b[39m\u001b[38;5;124m\"\u001b[39m):\n",
      "\u001b[1;31mAttributeError\u001b[0m: Could not find PyAudio; check installation"
     ]
    }
   ],
   "source": [
    "import speech_recognition as sr\n",
    "\n",
    "def speech_to_text():\n",
    "    # Initialize recognizer\n",
    "    recognizer = sr.Recognizer()\n",
    "    \n",
    "    # Use default microphone as the audio source\n",
    "    with sr.Microphone() as source:\n",
    "        print(\"Speak something...\")\n",
    "        # Adjust for ambient noise\n",
    "        recognizer.adjust_for_ambient_noise(source)\n",
    "        # Listen for the user's input\n",
    "        audio_data = recognizer.listen(source)\n",
    "        \n",
    "        try:\n",
    "            print(\"Recognizing...\")\n",
    "            # Convert speech to text\n",
    "            text = recognizer.recognize_google(audio_data)\n",
    "            print(\"You said:\", text)\n",
    "        except sr.UnknownValueError:\n",
    "            print(\"Sorry, could not understand audio.\")\n",
    "        except sr.RequestError as e:\n",
    "            print(\"Error fetching results; {0}\".format(e))\n",
    "\n",
    "# Call the function to start speech recognition\n",
    "speech_to_text()\n"
   ]
  },
  {
   "cell_type": "code",
   "execution_count": 6,
   "id": "a41f3716",
   "metadata": {},
   "outputs": [
    {
     "name": "stdout",
     "output_type": "stream",
     "text": [
      "Collecting pyaudio\n",
      "  Obtaining dependency information for pyaudio from https://files.pythonhosted.org/packages/82/d8/f043c854aad450a76e476b0cf9cda1956419e1dacf1062eb9df3c0055abe/PyAudio-0.2.14-cp311-cp311-win_amd64.whl.metadata\n",
      "  Downloading PyAudio-0.2.14-cp311-cp311-win_amd64.whl.metadata (2.7 kB)\n",
      "Downloading PyAudio-0.2.14-cp311-cp311-win_amd64.whl (164 kB)\n",
      "   ---------------------------------------- 0.0/164.1 kB ? eta -:--:--\n",
      "   --------- ----------------------------- 41.0/164.1 kB 960.0 kB/s eta 0:00:01\n",
      "   ---------------------------------------- 164.1/164.1 kB 2.0 MB/s eta 0:00:00\n",
      "Installing collected packages: pyaudio\n",
      "Successfully installed pyaudio-0.2.14\n",
      "Note: you may need to restart the kernel to use updated packages.\n"
     ]
    }
   ],
   "source": [
    "pip install pyaudio"
   ]
  },
  {
   "cell_type": "code",
   "execution_count": 7,
   "id": "f88f66e2",
   "metadata": {},
   "outputs": [],
   "source": [
    "import speech_recognition as s\n",
    "import pyttsx3 as p\n",
    "import pyaudio"
   ]
  },
  {
   "cell_type": "code",
   "execution_count": 7,
   "id": "29136aec",
   "metadata": {},
   "outputs": [
    {
     "name": "stdout",
     "output_type": "stream",
     "text": [
      "Say the words you want to convert to text....\n",
      "the words spoken are--> hello\n"
     ]
    }
   ],
   "source": [
    "import speech_recognition as s\n",
    "\n",
    "def speech_to_text():\n",
    "# Initialize recognizer\n",
    "    recognizer = s.Recognizer()\n",
    "    \n",
    "# microphone() function is used to enable the default microphone of the device as the source of the audio input\n",
    "    with s.Microphone() as source:\n",
    "        print(\"Say the words you want to convert to text....\")\n",
    "# This puts the server into listen mode\n",
    "        words_spoken= recognizer.listen(source)\n",
    "        \n",
    "        try:\n",
    "# Convert speech to text\n",
    "            text = recognizer.recognize_google(words_spoken)\n",
    "            print(\"the words spoken are-->\", text)\n",
    "        except s.UnknownValueError:\n",
    "            print(\"Sorry, could not understand audio.\")\n",
    "        except s.RequestError as e:\n",
    "            print(\"Error fetching results; {0}\".format(e))\n",
    "\n",
    "\n",
    "speech_to_text()\n",
    "\n"
   ]
  },
  {
   "cell_type": "code",
   "execution_count": null,
   "id": "e8b491d6",
   "metadata": {},
   "outputs": [],
   "source": []
  }
 ],
 "metadata": {
  "kernelspec": {
   "display_name": "Python 3 (ipykernel)",
   "language": "python",
   "name": "python3"
  },
  "language_info": {
   "codemirror_mode": {
    "name": "ipython",
    "version": 3
   },
   "file_extension": ".py",
   "mimetype": "text/x-python",
   "name": "python",
   "nbconvert_exporter": "python",
   "pygments_lexer": "ipython3",
   "version": "3.11.4"
  }
 },
 "nbformat": 4,
 "nbformat_minor": 5
}
